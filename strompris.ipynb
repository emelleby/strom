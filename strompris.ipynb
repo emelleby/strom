{
 "cells": [
  {
   "cell_type": "code",
   "execution_count": 24,
   "metadata": {},
   "outputs": [],
   "source": [
    "import requests\n",
    "\n",
    "def make_request(url):\n",
    "    response = requests.get(url)\n",
    "    if response.status_code == 200:\n",
    "        return response.json()\n",
    "    else:\n",
    "        return None"
   ]
  },
  {
   "cell_type": "markdown",
   "metadata": {},
   "source": [
    "### Her må det legges inn data"
   ]
  },
  {
   "cell_type": "code",
   "execution_count": 79,
   "metadata": {},
   "outputs": [],
   "source": [
    "# Get price data for month\n",
    "price_from_fortum_per_kwh = 0.5259\n",
    "year = 2023\n",
    "period = 10 \n",
    "# Make a list of the days in the month. Make sure to have the right number of days (Days + 1).\n",
    "days = [str(day).zfill(2) for day in range(1, 32)]\n"
   ]
  },
  {
   "cell_type": "code",
   "execution_count": 64,
   "metadata": {},
   "outputs": [
    {
     "name": "stdout",
     "output_type": "stream",
     "text": [
      "31\n"
     ]
    }
   ],
   "source": [
    "# Get price data for month\n",
    "\n",
    "month_prices = {}\n",
    "for day in days:\n",
    "    url = f\"https://www.hvakosterstrommen.no/api/v1/prices/{str(year)}/{str(period).zfill(2)}-{day}_NO1.json\"\n",
    "    data = make_request(url)\n",
    "    if data:\n",
    "        month_prices[day] = data\n",
    "\n",
    "print(len(month_prices))\n"
   ]
  },
  {
   "cell_type": "markdown",
   "metadata": {},
   "source": [
    "### Denne må endres til riktig fil"
   ]
  },
  {
   "cell_type": "code",
   "execution_count": 67,
   "metadata": {},
   "outputs": [],
   "source": [
    "import json\n",
    "# Get the file for the month\n",
    "with open(f'strømforbruk-2023-10.json', 'r') as file:\n",
    "    strom_data = json.load(file)\n",
    "\n",
    "# Now `strom_data` is a Python dictionary that contains the parsed JSON data"
   ]
  },
  {
   "cell_type": "code",
   "execution_count": 68,
   "metadata": {},
   "outputs": [
    {
     "name": "stdout",
     "output_type": "stream",
     "text": [
      "24\n",
      "31\n",
      "2.23\n"
     ]
    }
   ],
   "source": [
    "from typing import List\n",
    "\n",
    "timer: List[dict] = strom_data[\"Years\"][0][\"Months\"][0][\"Days\"][0][\"Hours\"]\n",
    "dager: List[dict] = strom_data[\"Years\"][0][\"Months\"][0][\"Days\"]\n",
    "print(len(timer))\n",
    "print(len(dager))\n",
    "print(timer[0][\"Consumption\"][\"Value\"])"
   ]
  },
  {
   "cell_type": "code",
   "execution_count": 69,
   "metadata": {},
   "outputs": [
    {
     "name": "stdout",
     "output_type": "stream",
     "text": [
      "Day 29 has 25 hours\n",
      "[24, 24, 24, 24, 24, 24, 24, 24, 24, 24, 24, 24, 24, 24, 24, 24, 24, 24, 24, 24, 24, 24, 24, 24, 24, 24, 24, 24, 25, 24, 24]\n"
     ]
    }
   ],
   "source": [
    "# Check if all days have 24 hours\n",
    "arr = []\n",
    "len(month_prices[\"25\"])\n",
    "for i, day in enumerate(month_prices):\n",
    "    if len(month_prices[day]) != 24:\n",
    "        print(f\"Day {day} has {len(month_prices[day])} hours\")\n",
    "    arr.append(len(month_prices[day]))\n",
    "print(arr)"
   ]
  },
  {
   "cell_type": "code",
   "execution_count": 70,
   "metadata": {},
   "outputs": [
    {
     "name": "stdout",
     "output_type": "stream",
     "text": [
      "31\n",
      "744\n",
      "Totalt antall kwh: 1545.85\n"
     ]
    }
   ],
   "source": [
    "# Totalt antall kilowattimer i month\n",
    "total_days = 0\n",
    "total_hours = 0\n",
    "total = 0\n",
    "\n",
    "for day in dager:\n",
    "    total_days += 1\n",
    "    # add a new key to the dictionary\n",
    "    for hour in day[\"Hours\"]:\n",
    "        total_hours += 1\n",
    "        total += hour[\"Consumption\"][\"Value\"]\n",
    "\n",
    "print(total_days)\n",
    "print(total_hours)\n",
    "print(f'Totalt antall kwh: {total:.2f}')\n"
   ]
  },
  {
   "cell_type": "code",
   "execution_count": 71,
   "metadata": {},
   "outputs": [
    {
     "name": "stdout",
     "output_type": "stream",
     "text": [
      "31\n",
      "{0: -0.02239, 1: -0.02273, 2: -0.02341, 3: -0.02352, 4: -0.02329, 5: -0.02329, 6: -0.02251, 7: -0.02014, 8: -0.01204, 9: -0.00529, 10: -0.00135, 11: -0.00079, 12: -0.00248, 13: -0.02127, 14: -0.00822, 15: -0.0018, 16: 0.00011, 17: 0.00574, 18: 0.01069, 19: 0.01621, 20: 0.01553, 21: 0.00912, 22: -0.00158, 23: -0.00878}\n"
     ]
    }
   ],
   "source": [
    "# Set an object with all the prices for the month\n",
    "price_object = {}\n",
    "for day in month_prices:\n",
    "  hour_prices = {}\n",
    "  for i, hour in enumerate(month_prices[day]):\n",
    "    hour_prices[i] = hour[\"NOK_per_kWh\"]\n",
    "  price_object[day] = hour_prices\n",
    "\n",
    "print(len(price_object))\n",
    "print(price_object[\"01\"])\n",
    "\n"
   ]
  },
  {
   "cell_type": "code",
   "execution_count": 72,
   "metadata": {},
   "outputs": [],
   "source": [
    "# Set the spotPrice to each hour in the month\n",
    "for day in dager:\n",
    "    day_num = str(day[\"Day\"]).zfill(2)\n",
    "    for i, hour in enumerate(day[\"Hours\"]):\n",
    "        hour[\"SpotPrice\"] = price_object[day_num][i]\n",
    "\n",
    "# print(json.dumps(dager[0][\"Hours\"][0], indent=4))"
   ]
  },
  {
   "cell_type": "code",
   "execution_count": 73,
   "metadata": {},
   "outputs": [
    {
     "name": "stdout",
     "output_type": "stream",
     "text": [
      "[{'Day': 1, 'KWH': 15.57, 'Cost': -0.17489680000000005}]\n"
     ]
    }
   ],
   "source": [
    "# Build an array  of days with kwh and cost\n",
    "day_data = []\n",
    "for i, day in enumerate(dager):\n",
    "    kwh = 0\n",
    "    cost = 0\n",
    "    for hour in day[\"Hours\"]:\n",
    "        kwh += hour[\"Consumption\"][\"Value\"]\n",
    "        cost += hour[\"Consumption\"][\"Value\"] * hour[\"SpotPrice\"]\n",
    "    day_data.append({\"Day\": day[\"Day\"], \"KWH\": kwh, \"Cost\": cost})\n",
    "print(day_data[:1])\n",
    "    "
   ]
  },
  {
   "cell_type": "code",
   "execution_count": 74,
   "metadata": {},
   "outputs": [
    {
     "name": "stdout",
     "output_type": "stream",
     "text": [
      "Totalt antall dager: 31\n",
      "Totalt antall kwh: 1545.85\n",
      "Totalt antall kroner: 713.19\n",
      "Totalt antall kroner inkl mva: 891.49\n",
      "Gjennomsnittlig pris per kwh forbrukt i øre: 46.14\n",
      "Gjennomsnittlig pris per kwh ink mva i øre: 57.67\n",
      "Gjennomsnittlig pris for måneden per dag: 23.01\n"
     ]
    }
   ],
   "source": [
    "# My actual consumption\n",
    "\n",
    "# Calculate total cost and total kwh for the month\n",
    "total_kwh = 0\n",
    "total_cost = 0\n",
    "num_days = 0\n",
    "for day in day_data:\n",
    "    num_days += 1\n",
    "    total_kwh += day[\"KWH\"]\n",
    "    total_cost += day[\"Cost\"]\n",
    "\n",
    "# Calculate average cost per kwh\n",
    "average_cost = total_cost / total_kwh\n",
    "\n",
    "# Calculate average price per kwh\n",
    "average_price = total_cost / num_days\n",
    "\n",
    "total_cost_incl_mva = total_cost * 1.25\n",
    "average_cost_incl_mva = average_cost * 1.25\n",
    "\n",
    "print(f\"Totalt antall dager: {num_days}\")\n",
    "print(f\"Totalt antall kwh: {total_kwh:.2f}\")\n",
    "print(f\"Totalt antall kroner: {total_cost:.2f}\")\n",
    "print(f\"Totalt antall kroner inkl mva: {total_cost_incl_mva:.2f}\")\n",
    "print(f\"Gjennomsnittlig pris per kwh forbrukt i øre: {average_cost*100:.2f}\")\n",
    "print(f\"Gjennomsnittlig pris per kwh ink mva i øre: {average_cost*1.25*100:.2f}\")\n",
    "print(f\"Gjennomsnittlig pris for måneden per dag: {average_price:.2f}\")\n",
    "\n"
   ]
  },
  {
   "cell_type": "code",
   "execution_count": 75,
   "metadata": {},
   "outputs": [
    {
     "data": {
      "image/png": "[encoded data removed]",
      "text/plain": [
       "<Figure size 640x480 with 1 Axes>"
      ]
     },
     "metadata": {},
     "output_type": "display_data"
    }
   ],
   "source": [
    "import matplotlib.pyplot as plt\n",
    "\n",
    "# Extract the day and consumption values from the day_data list\n",
    "days = [day[\"Day\"] for day in day_data]\n",
    "consumption = [day[\"KWH\"] for day in day_data]\n",
    "cost = [day[\"Cost\"] for day in day_data]\n",
    "\n",
    "# Plot the bar chart for consumption\n",
    "plt.bar(days, consumption, label='Consumption')\n",
    "\n",
    "# Plot the line chart for cost\n",
    "plt.plot(days, cost, color='r', label='Cost')\n",
    "\n",
    "plt.xlabel(\"Day\")\n",
    "plt.ylabel(\"Consumption / Cost\")\n",
    "plt.title(\"Daily Consumption and Cost\")\n",
    "plt.legend()\n",
    "plt.show()\n"
   ]
  },
  {
   "cell_type": "code",
   "execution_count": 76,
   "metadata": {},
   "outputs": [
    {
     "name": "stdout",
     "output_type": "stream",
     "text": [
      "Gjennomsnitt per dag ex mva: 0.31621250000000006\n",
      "Gjennomsnitt per dag ink mva: 0.39526562500000006\n"
     ]
    }
   ],
   "source": [
    "# Get the average price for the given day of month including VAT\n",
    "day_number = 19\n",
    "price_01 = 0\n",
    "hours_01 = 0\n",
    "\n",
    "for price in month_prices[str(day_number)]:\n",
    "    hours_01 += 1\n",
    "    price_01 += price[\"NOK_per_kWh\"]\n",
    "print(f'Gjennomsnitt per dag ex mva: {(price_01 / hours_01)}')  \n",
    "print(f'Gjennomsnitt per dag ink mva: {(price_01 / hours_01)*1.25}')    "
   ]
  },
  {
   "cell_type": "code",
   "execution_count": 77,
   "metadata": {},
   "outputs": [
    {
     "name": "stdout",
     "output_type": "stream",
     "text": [
      "{'Day': 1, 'KWH': 60.93999999999998, 'Cost': -0.18748000000000004}\n",
      "744\n",
      "Ved gjennomsnittlig spotpris:\n",
      "Gjennomsnittlig pris per kwh: 43.04\n",
      "Gjennomsnittlig pris per kwh ink mva i øre: 53.8007\n",
      "Totale kostnader ved gjennomsnittspris: 665.34\n",
      "Totale kostnader ved gjennomsnittspris ink mva: 831.68\n"
     ]
    }
   ],
   "source": [
    "# Calculate the average price and cost for the month using the average spotprice \n",
    "\n",
    "day_average = []\n",
    "hours_month = 0\n",
    "cost = 0\n",
    "for i, day in enumerate(dager):\n",
    "    for hour in day[\"Hours\"]:\n",
    "        hours_month += 1\n",
    "        cost += hour[\"SpotPrice\"]\n",
    "    day_average.append({\"Day\": day[\"Day\"], \"KWH\": kwh, \"Cost\": cost})\n",
    "\n",
    "daily_average = cost / hours_month*100\n",
    "daily_average_incl_mva = daily_average * 1.25\n",
    "\n",
    "print(day_average[0])\n",
    "print(hours_month)\n",
    "print(\"Ved gjennomsnittlig spotpris:\")\n",
    "print(f\"Gjennomsnittlig pris per kwh: {daily_average:.2f}\")\n",
    "print(f\"Gjennomsnittlig pris per kwh ink mva i øre: {daily_average_incl_mva:.4f}\")\n",
    "print(f'Totale kostnader ved gjennomsnittspris: {daily_average*total_kwh/100:.2f}')\n",
    "print(f'Totale kostnader ved gjennomsnittspris ink mva: {daily_average_incl_mva*total_kwh/100:.2f}')\n",
    "# print(cost/hours_month)\n",
    "\n"
   ]
  },
  {
   "cell_type": "code",
   "execution_count": 80,
   "metadata": {},
   "outputs": [
    {
     "name": "stdout",
     "output_type": "stream",
     "text": [
      "Måned: October\n",
      "Totalt antall dager i måneden: 31\n",
      "Totalt antall kwh: 1545.85\n",
      "\n",
      "\u001b[1mMitt faktiske forbruk:\u001b[0m\n",
      "Totalt antall kroner: 713.19\n",
      "Totalt antall kroner inkl mva: 891.49\n",
      "\n",
      "Gjennomsnittlig pris per kwh forbrukt i øre: 46.14\n",
      "Gjennomsnittlig pris per kwh ink mva i øre: 57.67\n",
      "Gjennomsnittlig pris for måneden per dag: 23.01\n",
      "\n",
      "\u001b[1mVed gjennomsnittlig spotpris:\u001b[0m\n",
      "Totale kostnader ved gjennomsnittspris: 665.34\n",
      "Totale kostnader ved gjennomsnittspris ink mva: 831.68\n",
      "\n",
      "Gjennomsnittlig pris per kwh: 43.04\n",
      "Gjennomsnittlig pris per kwh ink mva i øre: 53.8007\n",
      "\n",
      "\u001b[1mDelta mellom fakturert og faktisk ved spot:\u001b[0m\n",
      "Totalt antall kroner uten mva: -99.77\n",
      "Totalt antall kroner inkl mva: -124.72\n",
      "\n"
     ]
    }
   ],
   "source": [
    "import calendar\n",
    "\n",
    "print(f\"Måned: {calendar.month_name[period]}\")\n",
    "print(f\"Totalt antall dager i måneden: {num_days}\")\n",
    "print(f\"Totalt antall kwh: {total_kwh:.2f}\\n\")\n",
    "\n",
    "print(\"\\033[1m\" + \"Mitt faktiske forbruk:\" + \"\\033[0m\")\n",
    "print(f\"Totalt antall kroner: {total_cost:.2f}\")\n",
    "print(f\"Totalt antall kroner inkl mva: {total_cost_incl_mva:.2f}\\n\")\n",
    "\n",
    "print(f\"Gjennomsnittlig pris per kwh forbrukt i øre: {average_cost*100:.2f}\")\n",
    "print(f\"Gjennomsnittlig pris per kwh ink mva i øre: {average_cost*1.25*100:.2f}\")\n",
    "print(f\"Gjennomsnittlig pris for måneden per dag: {average_price:.2f}\\n\")\n",
    "\n",
    "print(\"\\033[1m\" + \"Ved gjennomsnittlig spotpris:\" + \"\\033[0m\")\n",
    "print(f'Totale kostnader ved gjennomsnittspris: {daily_average*total_kwh/100:.2f}')\n",
    "print(f'Totale kostnader ved gjennomsnittspris ink mva: {daily_average_incl_mva*total_kwh/100:.2f}\\n')\n",
    "print(f\"Gjennomsnittlig pris per kwh: {daily_average:.2f}\")\n",
    "print(f\"Gjennomsnittlig pris per kwh ink mva i øre: {daily_average_incl_mva:.4f}\\n\")\n",
    "\n",
    "\n"
   ]
  },
  {
   "cell_type": "code",
   "execution_count": 83,
   "metadata": {},
   "outputs": [
    {
     "name": "stdout",
     "output_type": "stream",
     "text": [
      "\u001b[1mFaktisk kostnad for forbruk ved spot:\u001b[0m\n",
      "Totalt antall kroner: 713.19\n",
      "Totalt antall kroner inkl mva: 891.49\n",
      "\n",
      "\u001b[1mFakturert fra Fortum:\u001b[0m\n",
      "Totalt antall kroner uten mva: 812.96\n",
      "Totalt antall kroner inkl mva: 1016.20\n",
      "\n",
      "\u001b[1mDelta mellom fakturert og faktisk ved spot:\u001b[0m\n",
      "Totalt antall kroner uten mva: -99.77\n",
      "Totalt antall kroner inkl mva: -124.72\n",
      "\n"
     ]
    }
   ],
   "source": [
    "print(\"\\033[1m\" + \"Faktisk kostnad for forbruk ved spot:\" + \"\\033[0m\")\n",
    "print(f\"Totalt antall kroner: {total_cost:.2f}\")\n",
    "print(f\"Totalt antall kroner inkl mva: {total_cost_incl_mva:.2f}\\n\")\n",
    "\n",
    "print(\"\\033[1m\" + \"Fakturert fra Fortum:\" + \"\\033[0m\")\n",
    "print(f\"Totalt antall kroner uten mva: {(price_from_fortum_per_kwh*total_kwh):.2f}\")\n",
    "print(f\"Totalt antall kroner inkl mva: {(price_from_fortum_per_kwh*total_kwh*1.25):.2f}\\n\")\n",
    "\n",
    "print(\"\\033[1m\" + \"Delta mellom fakturert og faktisk ved spot:\" + \"\\033[0m\")\n",
    "print(f\"Totalt antall kroner uten mva: {(total_cost-price_from_fortum_per_kwh*total_kwh):.2f}\")\n",
    "print(f\"Totalt antall kroner inkl mva: {(total_cost_incl_mva-price_from_fortum_per_kwh*total_kwh*1.25):.2f}\\n\")"
   ]
  }
 ],
 "metadata": {
  "kernelspec": {
   "display_name": "env",
   "language": "python",
   "name": "python3"
  },
  "language_info": {
   "codemirror_mode": {
    "name": "ipython",
    "version": 3
   },
   "file_extension": ".py",
   "mimetype": "text/x-python",
   "name": "python",
   "nbconvert_exporter": "python",
   "pygments_lexer": "ipython3",
   "version": "3.10.12"
  }
 },
 "nbformat": 4,
 "nbformat_minor": 2
}
