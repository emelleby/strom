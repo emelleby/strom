{
 "cells": [
  {
   "cell_type": "code",
   "execution_count": 1,
   "metadata": {},
   "outputs": [],
   "source": [
    "import requests\n",
    "import json\n",
    "\n",
    "def make_request(url):\n",
    "    response = requests.get(url)\n",
    "    if response.status_code == 200:\n",
    "        return response.json()\n",
    "    else:\n",
    "        return None"
   ]
  },
  {
   "cell_type": "code",
   "execution_count": 2,
   "metadata": {},
   "outputs": [],
   "source": [
    "import json\n",
    "\n",
    "\n",
    "# Fetch spot prices\n",
    "spot_prices = {}\n",
    "\n",
    "for month in range(1, 13): # 1-13\n",
    "    month_str = str(month).zfill(2)\n",
    "    spot_prices[month_str] = {}\n",
    "    for day in range(1, 32):\n",
    "        day_str = str(day).zfill(2)\n",
    "        url = f\"https://www.hvakosterstrommen.no/api/v1/prices/2024/{month_str}-{day_str}_NO1.json\"\n",
    "        data = make_request(url)\n",
    "        if data:\n",
    "            spot_prices[month_str][day_str] = [hour[\"NOK_per_kWh\"] for hour in data]\n",
    "\n"
   ]
  },
  {
   "cell_type": "code",
   "execution_count": null,
   "metadata": {},
   "outputs": [],
   "source": [
    "month = \"11\"  # January\n",
    "day = \"15\"    # 15th day\n",
    "if month in spot_prices and day in spot_prices[month]:\n",
    "    daily_prices = spot_prices[month][day]\n",
    "    # Process daily_prices as needed\n",
    "    print(daily_prices)\n",
    "\n",
    "\n",
    "print(json.dumps(spot_prices['01']['01'], indent=4))"
   ]
  },
  {
   "cell_type": "markdown",
   "metadata": {},
   "source": [
    "### Her må det legges inn data"
   ]
  },
  {
   "cell_type": "code",
   "execution_count": 48,
   "metadata": {},
   "outputs": [],
   "source": [
    "# Get price data for month\n",
    "monthly_spot_fortum = {\n",
    "    \"01\": 0.9716,\n",
    "    \"02\": 0.7412,\n",
    "    \"03\": 0.7477,\n",
    "    \"04\": 0.6556,\n",
    "    \"05\": 0.4238,\n",
    "    \"06\": 0.4639,\n",
    "    \"07\": 0.6433,\n",
    "    \"08\": 0.5922,\n",
    "    \"09\": 0.6961,\n",
    "    \"10\": 0.9536,\n",
    "    \"11\": 1.0881,\n",
    "    \"12\": 1.1844\n",
    "}\n",
    "\n",
    "\n",
    "# period = '02' \n",
    "# Make a list of the days in the month. Make sure to have the right number of days (Days + 1).\n",
    "# days = [str(day).zfill(2) for day in range(1, 32)]\n"
   ]
  },
  {
   "cell_type": "code",
   "execution_count": null,
   "metadata": {},
   "outputs": [],
   "source": [
    "\n"
   ]
  },
  {
   "cell_type": "markdown",
   "metadata": {},
   "source": [
    "### Denne må endres til riktig fil"
   ]
  },
  {
   "cell_type": "code",
   "execution_count": 3,
   "metadata": {},
   "outputs": [],
   "source": [
    "import json\n",
    "# Get the file for the month\n",
    "with open(f'Forbruk_2023-12-31_til_2024-12-31.json', 'r') as file:\n",
    "    strom_data = json.load(file)\n",
    "\n",
    "# Now `strom_data` is a Python dictionary that contains the parsed JSON data"
   ]
  },
  {
   "cell_type": "code",
   "execution_count": 4,
   "metadata": {},
   "outputs": [
    {
     "name": "stdout",
     "output_type": "stream",
     "text": [
      "{'Year': 2024, 'Month': 3, 'Day': 31, 'Hour': 23, 'IsPublicHoliday': False, 'UseWeekendPrices': False, 'EnergyPrice': None, 'FixedPriceLevel': None, 'TotalPriceCost': None, 'Distribution': None, 'HourCompensation': None, 'SpotPrice': 0.64616, 'EnergyPriceCost': None, 'FixedPriceCost': None, 'PowerSupplierCost': None, 'IsPeriodCompleted': False, 'Id': '2024033123', 'Production': None, 'Consumption': {'Value': 3.13, 'IsVerified': True, 'Status': 'OK'}, 'Cost': 2.0224808}\n",
      "23\n",
      "Skipping hour 23 on 31-03 due to daylight saving time adjustment\n"
     ]
    }
   ],
   "source": [
    "# Assuming strom_data is already loaded and spot_prices is already populated\n",
    "\n",
    "# Calculate the Cost for each hour as shown previously\n",
    "for month in strom_data[\"Years\"][0][\"Months\"]:\n",
    "    month_str = str(month[\"Month\"]).zfill(2)\n",
    "    for day in month[\"Days\"]:\n",
    "        day_str = str(day[\"Day\"]).zfill(2)\n",
    "        if month_str in spot_prices and day_str in spot_prices[month_str]:\n",
    "            spot_prices_for_day = spot_prices[month_str][day_str]\n",
    "            last_price = 0 # Initialize last price to 0\n",
    "            for hour_index, hour in enumerate(day[\"Hours\"]):\n",
    "                if hour_index < len(spot_prices_for_day):\n",
    "                    spot_price = spot_prices_for_day[hour_index]\n",
    "                    last_price = spot_price # Set to use when there is no price for the hour\n",
    "                    consumption = hour[\"Consumption\"][\"Value\"]\n",
    "                    hour[\"SpotPrice\"] = spot_price\n",
    "                    hour[\"Cost\"] = spot_price * consumption\n",
    "                else:\n",
    "                    consumption = hour[\"Consumption\"][\"Value\"]\n",
    "                    hour[\"SpotPrice\"] = last_price\n",
    "                    hour[\"Cost\"] = last_price * consumption\n",
    "                    print(hour)\n",
    "                    print(len(spot_prices_for_day))\n",
    "                    print(f\"Skipping hour {hour_index} on {day_str}-{month_str} due to daylight saving time adjustment\")"
   ]
  },
  {
   "cell_type": "code",
   "execution_count": null,
   "metadata": {},
   "outputs": [],
   "source": [
    "timer = strom_data[\"Years\"][0][\"Months\"][2][\"Days\"][0][\"Hours\"]\n",
    "dager = strom_data[\"Years\"][0][\"Months\"][2][\"Days\"]\n",
    "print(len(timer))\n",
    "print(len(dager))\n",
    "print(strom_data[\"Years\"][0][\"Months\"][2][\"Days\"][0][\"Hours\"][0][\"Consumption\"][\"Value\"])\n",
    "print(json.dumps(strom_data[\"Years\"][0][\"Months\"][2][\"Days\"][30][\"Hours\"][0], indent=2))"
   ]
  },
  {
   "cell_type": "code",
   "execution_count": 7,
   "metadata": {},
   "outputs": [
    {
     "name": "stdout",
     "output_type": "stream",
     "text": [
      "Total Cost for march: 1248.01 NOK\n",
      "21\n"
     ]
    }
   ],
   "source": [
    "# Sum the total cost for January\n",
    "total_cost_march = 0\n",
    "\n",
    "# January is the first month, so we use index 0\n",
    "march = strom_data[\"Years\"][0][\"Months\"][2]\n",
    "\n",
    "for day in march[\"Days\"]:\n",
    "    # print(day['Day'])\n",
    "    for hour in day[\"Hours\"]:\n",
    "        total_cost_march += hour[\"Cost\"]\n",
    "\n",
    "print(f\"Total Cost for march: {total_cost_march:.2f} NOK\")\n",
    "print(len(march))"
   ]
  },
  {
   "cell_type": "code",
   "execution_count": 8,
   "metadata": {},
   "outputs": [
    {
     "name": "stdout",
     "output_type": "stream",
     "text": [
      "{\n",
      "  \"Total\": 0.0,\n",
      "  \"TotalExVat\": 0.0,\n",
      "  \"TotalExTaxes\": 0.0,\n",
      "  \"MonetaryUnitOfMeasure\": null,\n",
      "  \"Currency\": \"NOK\"\n",
      "}\n"
     ]
    }
   ],
   "source": [
    "march = strom_data[\"Years\"][0][\"Months\"][2]\n",
    "print(json.dumps(strom_data[\"Years\"][0][\"Months\"][2][\"Days\"][30]['TotalPriceCost'], indent=2))"
   ]
  },
  {
   "cell_type": "code",
   "execution_count": null,
   "metadata": {},
   "outputs": [],
   "source": [
    "# Sum the hourly costs and set the TotalPriceCost for each day\n",
    "for month in strom_data[\"Years\"][0][\"Months\"]:\n",
    "    for day in month[\"Days\"]:\n",
    "        print(f\"Processing day: {day['Year']}-{day['Month']:02d}-{day['Day']:02d}\")\n",
    "        total_daily_cost = sum(hour[\"Cost\"] for hour in day[\"Hours\"])\n",
    "        day[\"TotalPriceCost\"][\"TotalExVat\"] = total_daily_cost\n",
    "        day[\"TotalPriceCost\"][\"Total\"] = total_daily_cost * 1.25\n",
    "\n",
    "# Sum the daily costs and set the MonthlyTotalCost for each month\n",
    "for month in strom_data[\"Years\"][0][\"Months\"]:\n",
    "    total_monthly_cost = sum(day[\"TotalPriceCost\"][\"TotalExVat\"] for day in month[\"Days\"])\n",
    "    month[\"TotalPriceCost\"][\"TotalExVat\"] = total_monthly_cost\n",
    "    month[\"TotalPriceCost\"][\"Total\"] = total_monthly_cost * 1.25\n",
    "\n",
    "# Sum the Monthly costs and set the YearlyTotalCost for each month\n",
    "# Sum the monthly costs to get the yearly total cost\n",
    "total_yearly_cost = sum(month[\"TotalPriceCost\"][\"TotalExVat\"] for month in strom_data[\"Years\"][0][\"Months\"])\n",
    "year = strom_data[\"Years\"][0]\n",
    "year[\"TotalPriceCost\"][\"TotalExVat\"] = total_yearly_cost\n",
    "year[\"TotalPriceCost\"][\"Total\"] = total_yearly_cost * 1.25\n",
    "\n"
   ]
  },
  {
   "cell_type": "code",
   "execution_count": 26,
   "metadata": {},
   "outputs": [
    {
     "name": "stdout",
     "output_type": "stream",
     "text": [
      "{\n",
      "  \"Total\": 45.9328965,\n",
      "  \"TotalExVat\": 36.7463172,\n",
      "  \"TotalExTaxes\": 0.0,\n",
      "  \"MonetaryUnitOfMeasure\": null,\n",
      "  \"Currency\": \"NOK\"\n",
      "}\n",
      "{\n",
      "  \"Total\": 1292.5290042499998,\n",
      "  \"TotalExVat\": 1034.0232033999998,\n",
      "  \"TotalExTaxes\": 0.0,\n",
      "  \"MonetaryUnitOfMeasure\": null,\n",
      "  \"Currency\": \"NOK\"\n",
      "}\n",
      "{\n",
      "  \"Total\": 12829.679324375,\n",
      "  \"TotalExVat\": 10263.7434595,\n",
      "  \"TotalExTaxes\": 0.0,\n",
      "  \"MonetaryUnitOfMeasure\": null,\n",
      "  \"Currency\": \"NOK\"\n",
      "}\n"
     ]
    }
   ],
   "source": [
    "print(json.dumps(strom_data[\"Years\"][0][\"Months\"][3][\"Days\"][0]['TotalPriceCost'], indent=2))\n",
    "\n",
    "print(json.dumps(strom_data[\"Years\"][0][\"Months\"][10]['TotalPriceCost'], indent=2))\n",
    "\n",
    "print(json.dumps(strom_data[\"Years\"][0]['TotalPriceCost'], indent=2))"
   ]
  },
  {
   "cell_type": "code",
   "execution_count": 28,
   "metadata": {},
   "outputs": [
    {
     "name": "stdout",
     "output_type": "stream",
     "text": [
      "1034.0232033999998\n",
      "1903.3\n"
     ]
    }
   ],
   "source": [
    "print(json.dumps(strom_data[\"Years\"][0][\"Months\"][10]['TotalPriceCost'][\"TotalExVat\"]))\n",
    "print(json.dumps(strom_data[\"Years\"][0][\"Months\"][10]['Consumption'][\"Value\"]))"
   ]
  },
  {
   "cell_type": "code",
   "execution_count": null,
   "metadata": {},
   "outputs": [],
   "source": [
    "import calendar\n",
    "\n",
    "for month in strom_data[\"Years\"][0][\"Months\"]:\n",
    "  month_number = month[\"Month\"]\n",
    "  month_name = calendar.month_name[month_number]\n",
    "  month[\"MonthName\"] = month_name\n",
    "\n",
    "# Print the updated months to verify\n",
    "for month in strom_data[\"Years\"][0][\"Months\"]:\n",
    "  print(f\"Month Number: {month['Month']}, Month Name: {month['MonthName']}\")"
   ]
  },
  {
   "cell_type": "code",
   "execution_count": 38,
   "metadata": {},
   "outputs": [],
   "source": [
    "for month in strom_data[\"Years\"][0][\"Months\"]:\n",
    "    \n",
    "    total_price = month[\"TotalPriceCost\"][\"TotalExVat\"]\n",
    "    total_consumption = month[\"Consumption\"][\"Value\"]\n",
    "    month['SpotPrice'] = total_price / total_consumption"
   ]
  },
  {
   "cell_type": "code",
   "execution_count": null,
   "metadata": {},
   "outputs": [],
   "source": [
    "# Print the price and consumption for each month\n",
    "period = 1\n",
    "overprice = 0\n",
    "for month in strom_data[\"Years\"][0][\"Months\"]:\n",
    "    month_name = month[\"MonthName\"]\n",
    "    total_price = month[\"TotalPriceCost\"][\"TotalExVat\"]\n",
    "    total_consumption = month[\"Consumption\"][\"Value\"]\n",
    "    fortum_price = monthly_spot_fortum[str(period).zfill(2)] * total_consumption\n",
    "    period += 1\n",
    "    spot_price = month[\"SpotPrice\"]\n",
    "    delta_price = fortum_price - total_price\n",
    "    overprice += delta_price\n",
    "    print(f\"Month: {month_name}\")\n",
    "    print(f\" Total Consumption: {total_consumption:.2f} kWh\")\n",
    "    print(f\" My Spot Price: {spot_price:.4f} NOK/kWh\")\n",
    "    print(f\" Total Cost (Excluding VAT): {total_price:.2f} NOK\")\n",
    "    print(f\" Fortum Cost (Excluding VAT): {fortum_price:.2f} NOK\")\n",
    "    print(f\" Fortum Cost - My Total Cost: {delta_price:.2f} NOK\")\n",
    "    \n",
    "    print(\"-\" * 40)\n",
    "\n",
    "print(f\"Year: {strom_data['Years'][0]['Year']}\")\n",
    "print(f'  Total Price (Excluding VAT): {year[\"TotalPriceCost\"][\"TotalExVat\"]:.2f} NOK')\n",
    "print(f'  Total Consumption: {year[\"Consumption\"][\"Value\"]:.2f} kWh')\n",
    "\n",
    "print(f'  Total OverPrice (Excluding VAT) for 2024: {overprice:.2f} NOK')\n",
    "print(\"-\" * 40)\n",
    "\n"
   ]
  },
  {
   "cell_type": "code",
   "execution_count": 53,
   "metadata": {},
   "outputs": [],
   "source": [
    "with open(\"output.txt\", \"w\") as f:\n",
    "  # Print the price and consumption for each month\n",
    "  period = 1\n",
    "  overprice = 0\n",
    "  for month in strom_data[\"Years\"][0][\"Months\"]:\n",
    "      month_name = month[\"MonthName\"]\n",
    "      total_price = month[\"TotalPriceCost\"][\"TotalExVat\"]\n",
    "      total_consumption = month[\"Consumption\"][\"Value\"]\n",
    "      fortum_price = monthly_spot_fortum[str(period).zfill(2)] * total_consumption\n",
    "      period += 1\n",
    "      spot_price = month[\"SpotPrice\"]\n",
    "      delta_price = fortum_price - total_price\n",
    "      overprice += delta_price\n",
    "      f.write(f\"Month: {month_name}\")\n",
    "      f.write(f\" Total Consumption: {total_consumption:.2f} kWh\")\n",
    "      f.write(f\" My Spot Price: {spot_price:.4f} NOK/kWh\")\n",
    "      f.write(f\" Total Cost (Excluding VAT): {total_price:.2f} NOK\")\n",
    "      f.write(f\" Fortum Cost (Excluding VAT): {fortum_price:.2f} NOK\")\n",
    "      f.write(f\" Fortum Cost - My Total Cost: {delta_price:.2f} NOK\")\n",
    "      \n",
    "      f.write(\"-\" * 40)\n",
    "\n",
    "  f.write(f\"Year: {strom_data['Years'][0]['Year']}\")\n",
    "  f.write(f'  Total Price (Excluding VAT): {year[\"TotalPriceCost\"][\"TotalExVat\"]:.2f} NOK')\n",
    "  f.write(f'  Total Consumption: {year[\"Consumption\"][\"Value\"]:.2f} kWh')\n",
    "\n",
    "  f.write(f'  Total OverPrice (Excluding VAT) for 2024: {overprice:.2f} NOK')\n",
    "  f.write(\"-\" * 40)\n",
    "  "
   ]
  },
  {
   "cell_type": "code",
   "execution_count": 45,
   "metadata": {},
   "outputs": [],
   "source": [
    "with open('strom_data_output.json', 'w') as outfile:\n",
    "  json.dump(strom_data, outfile, indent=4)"
   ]
  },
  {
   "cell_type": "code",
   "execution_count": null,
   "metadata": {},
   "outputs": [],
   "source": []
  },
  {
   "cell_type": "code",
   "execution_count": null,
   "metadata": {},
   "outputs": [],
   "source": [
    "print(type(strom_data))\n",
    "print(type(strom_data[\"Years\"][0][\"Months\"][0][\"Days\"]))"
   ]
  },
  {
   "cell_type": "code",
   "execution_count": null,
   "metadata": {},
   "outputs": [],
   "source": [
    "# Check if all days have 24 hours\n",
    "print(month_prices[\"01\"][0][\"NOK_per_kWh\"])\n",
    "len(month_prices[\"25\"])\n",
    "for day in month_prices:\n",
    "    print(len(month_prices[day]))"
   ]
  },
  {
   "cell_type": "code",
   "execution_count": null,
   "metadata": {},
   "outputs": [],
   "source": [
    "# Set the strom_data variable to the parsed JSON data\n",
    "strom_data_list:list = []\n",
    "strom_data_list = strom_data[\"Years\"][0][\"Months\"][1][\"Days\"]\n",
    "print(len(strom_data_list))\n",
    "print(strom_data_list[0])"
   ]
  },
  {
   "cell_type": "code",
   "execution_count": null,
   "metadata": {},
   "outputs": [],
   "source": [
    "# Totalt antall kilowattimer i month\n",
    "total_days = 0\n",
    "total_hours = 0\n",
    "total = 0\n",
    "\n",
    "for day in strom_data_list:\n",
    "    total_days += 1\n",
    "    # add a new key to the dictionary\n",
    "    for hour in day[\"Hours\"]:\n",
    "        total_hours += 1\n",
    "        total += hour[\"Consumption\"][\"Value\"]\n",
    "\n",
    "print(total_days)\n",
    "print(total_hours)\n",
    "print(f'Totalt antall kwh: {total:.2f}')\n"
   ]
  },
  {
   "cell_type": "code",
   "execution_count": null,
   "metadata": {},
   "outputs": [],
   "source": [
    "print(strom_data_list[0][\"Hours\"])\n",
    "print (len(strom_data_list[0][\"Hours\"]))"
   ]
  },
  {
   "cell_type": "code",
   "execution_count": null,
   "metadata": {},
   "outputs": [],
   "source": [
    "price_object = {}\n",
    "for day in month_prices:\n",
    "  hour_prices = {}\n",
    "  for i, hour in enumerate(month_prices[day]):\n",
    "    hour_prices[i] = hour[\"NOK_per_kWh\"]\n",
    "    # print(i, hour[\"NOK_per_kWh\"])\n",
    "  price_object[day] = hour_prices\n",
    "\n",
    "print(len(price_object))\n",
    "\n"
   ]
  },
  {
   "cell_type": "code",
   "execution_count": 90,
   "metadata": {},
   "outputs": [],
   "source": [
    "for day in strom_data_list:\n",
    "\n",
    "    day_num = str(day[\"Day\"]).zfill(2)\n",
    "    for i, hour in enumerate(day[\"Hours\"]):\n",
    "        hour[\"SpotPrice\"] = price_object[day_num][i]"
   ]
  },
  {
   "cell_type": "code",
   "execution_count": null,
   "metadata": {},
   "outputs": [],
   "source": [
    "print(strom_data[0][\"Hours\"][10])"
   ]
  },
  {
   "cell_type": "code",
   "execution_count": null,
   "metadata": {},
   "outputs": [],
   "source": [
    "day_data = []\n",
    "for i, day in enumerate(strom_data_list):\n",
    "    kwh = 0\n",
    "    cost = 0\n",
    "    for hour in day[\"Hours\"]:\n",
    "        kwh += hour[\"Consumption\"][\"Value\"]\n",
    "        cost += hour[\"Consumption\"][\"Value\"] * hour[\"SpotPrice\"]\n",
    "    day_data.append({\"Day\": day[\"Day\"], \"KWH\": kwh, \"Cost\": cost})\n",
    "print(day_data[:1])\n",
    "    "
   ]
  },
  {
   "cell_type": "code",
   "execution_count": null,
   "metadata": {},
   "outputs": [],
   "source": [
    "# My actual consumption\n",
    "\n",
    "# Calculate total cost and total kwh for the month\n",
    "total_kwh = 0\n",
    "total_cost = 0\n",
    "num_days = 0\n",
    "for day in day_data:\n",
    "    num_days += 1\n",
    "    total_kwh += day[\"KWH\"]\n",
    "    total_cost += day[\"Cost\"]\n",
    "\n",
    "# Calculate average cost per kwh\n",
    "average_cost = total_cost / total_kwh\n",
    "\n",
    "# Calculate average price per kwh\n",
    "average_price = total_cost / num_days\n",
    "\n",
    "total_cost_incl_mva = total_cost * 1.25\n",
    "average_cost_incl_mva = average_cost * 1.25\n",
    "\n",
    "print(f\"Totalt antall dager: {num_days}\")\n",
    "print(f\"Totalt antall kwh: {total_kwh:.2f}\")\n",
    "print(f\"Totalt antall kroner: {total_cost:.2f}\")\n",
    "print(f\"Totalt antall kroner inkl mva: {total_cost_incl_mva:.2f}\")\n",
    "print(f\"Gjennomsnittlig pris per kwh forbrukt i øre: {average_cost*100:.2f}\")\n",
    "print(f\"Gjennomsnittlig pris per kwh ink mva i øre: {average_cost*1.25*100:.2f}\")\n",
    "print(f\"Gjennomsnittlig pris for måneden per dag: {average_price:.2f}\")\n",
    "\n"
   ]
  },
  {
   "cell_type": "code",
   "execution_count": null,
   "metadata": {},
   "outputs": [],
   "source": [
    "import matplotlib.pyplot as plt\n",
    "\n",
    "# Extract the day and consumption values from the day_data list\n",
    "days = [day[\"Day\"] for day in day_data]\n",
    "consumption = [day[\"KWH\"] for day in day_data]\n",
    "cost = [day[\"Cost\"] for day in day_data]\n",
    "\n",
    "# Plot the bar chart for consumption\n",
    "plt.bar(days, consumption, label='Consumption')\n",
    "\n",
    "# Plot the line chart for cost\n",
    "plt.plot(days, cost, color='r', label='Cost')\n",
    "\n",
    "plt.xlabel(\"Day\")\n",
    "plt.ylabel(\"Consumption / Cost\")\n",
    "plt.title(\"Daily Consumption and Cost\")\n",
    "plt.legend()\n",
    "plt.show()\n"
   ]
  },
  {
   "cell_type": "code",
   "execution_count": null,
   "metadata": {},
   "outputs": [],
   "source": [
    "import sys\n",
    "print(sys.executable)"
   ]
  },
  {
   "cell_type": "code",
   "execution_count": null,
   "metadata": {},
   "outputs": [],
   "source": [
    "print(month_prices[\"01\"][1][\"NOK_per_kWh\"])\n",
    "price_01 = 0\n",
    "hours_01 = 0\n",
    "# Get the average price for the given day of month including VAT\n",
    "for price in month_prices[\"19\"]:\n",
    "    hours_01 += 1\n",
    "    price_01 += price[\"NOK_per_kWh\"]\n",
    "print(f'Gjennomsnitt per dag ex mva: {(price_01 / hours_01)}')  \n",
    "print(f'Gjennomsnitt per dag ink mva: {(price_01 / hours_01)*1.25}')    "
   ]
  },
  {
   "cell_type": "code",
   "execution_count": null,
   "metadata": {},
   "outputs": [],
   "source": [
    "# Calculate the average price and cost for the month using the average spotprice \n",
    "\n",
    "day_average = []\n",
    "hours_month = 0\n",
    "cost = 0\n",
    "for i, day in enumerate(strom_data_list):\n",
    "    for hour in day[\"Hours\"]:\n",
    "        hours_month += 1\n",
    "        cost += hour[\"SpotPrice\"]\n",
    "    day_average.append({\"Day\": day[\"Day\"], \"KWH\": kwh, \"Cost\": cost})\n",
    "\n",
    "daily_average = cost / hours_month*100\n",
    "daily_average_incl_mva = daily_average * 1.25\n",
    "\n",
    "print(day_average[0])\n",
    "print(hours_month)\n",
    "print(\"Ved gjennomsnittlig spotpris:\")\n",
    "print(f\"Gjennomsnittlig pris per kwh: {daily_average:.2f}\")\n",
    "print(f\"Gjennomsnittlig pris per kwh ink mva i øre: {daily_average_incl_mva:.4f}\")\n",
    "print(f'Totale kostnader ved gjennomsnittspris: {daily_average*total_kwh/100:.2f}')\n",
    "print(f'Totale kostnader ved gjennomsnittspris ink mva: {daily_average_incl_mva*total_kwh/100:.2f}')\n",
    "# print(cost/hours_month)\n",
    "\n"
   ]
  },
  {
   "cell_type": "code",
   "execution_count": null,
   "metadata": {},
   "outputs": [],
   "source": [
    "print(f\"Nummer for måneden: {period}\")\n",
    "print(f\"Totalt antall dager i måneden: {num_days}\")\n",
    "print(f\"Totalt antall kwh: {total_kwh:.2f}\\n\")\n",
    "\n",
    "print(\"\\033[1m\" + \"Mitt faktiske forbruk:\" + \"\\033[0m\")\n",
    "print(f\"Totalt antall kroner: {total_cost:.2f}\")\n",
    "print(f\"Totalt antall kroner inkl mva: {total_cost_incl_mva:.2f}\\n\")\n",
    "\n",
    "print(f\"Gjennomsnittlig pris per kwh forbrukt i øre: {average_cost*100:.2f}\")\n",
    "print(f\"Gjennomsnittlig pris per kwh ink mva i øre: {average_cost*1.25*100:.2f}\")\n",
    "print(f\"Gjennomsnittlig pris for måneden per dag: {average_price:.2f}\\n\")\n",
    "\n",
    "print(\"\\033[1m\" + \"Ved gjennomsnittlig spotpris:\" + \"\\033[0m\")\n",
    "print(f'Totale kostnader ved gjennomsnittspris: {daily_average*total_kwh/100:.2f}')\n",
    "print(f'Totale kostnader ved gjennomsnittspris ink mva: {daily_average_incl_mva*total_kwh/100:.2f}\\n')\n",
    "print(f\"Gjennomsnittlig pris per kwh: {daily_average:.2f}\")\n",
    "print(f\"Gjennomsnittlig pris per kwh ink mva i øre: {daily_average_incl_mva:.4f}\\n\")\n",
    "\n",
    "print(\"\\033[1m\" + \"Delta mellom fakturert og faktisk ved spot:\" + \"\\033[0m\")\n",
    "print(f\"Totalt antall kroner uten mva: {(total_cost-price_from_fortum_per_kwh*total_kwh):.2f}\")\n",
    "print(f\"Totalt antall kroner inkl mva: {(total_cost_incl_mva-price_from_fortum_per_kwh*total_kwh*1.25):.2f}\\n\")\n"
   ]
  },
  {
   "cell_type": "code",
   "execution_count": null,
   "metadata": {},
   "outputs": [],
   "source": [
    "print(\"\\033[1m\" + \"Mitt faktiske forbruk:\" + \"\\033[0m\")"
   ]
  }
 ],
 "metadata": {
  "kernelspec": {
   "display_name": "env",
   "language": "python",
   "name": "python3"
  },
  "language_info": {
   "codemirror_mode": {
    "name": "ipython",
    "version": 3
   },
   "file_extension": ".py",
   "mimetype": "text/x-python",
   "name": "python",
   "nbconvert_exporter": "python",
   "pygments_lexer": "ipython3",
   "version": "3.10.12"
  }
 },
 "nbformat": 4,
 "nbformat_minor": 2
}
